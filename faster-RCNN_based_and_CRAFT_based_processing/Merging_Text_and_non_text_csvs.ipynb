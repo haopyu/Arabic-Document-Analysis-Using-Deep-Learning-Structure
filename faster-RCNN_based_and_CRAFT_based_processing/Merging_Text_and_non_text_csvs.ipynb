{
 "cells": [
  {
   "cell_type": "code",
   "execution_count": 1,
   "metadata": {},
   "outputs": [],
   "source": [
    "#because CRAFT can only detects text, to make a fair comparision \n",
    "#between CRAFT-based method and Faster-R-CNN-based method, we need to \n",
    "#concatenate non-text resutls from Faster-R-CNN-based method and \n",
    "#text results from CRAFT-based method \n",
    "\n",
    "import csv\n",
    "class Point:\n",
    "    def __init__(self,setX,setY):\n",
    "        self.x = setX\n",
    "        self.y = setY\n",
    "    def printPoint(self):\n",
    "        print(\"x: \"+str(self.x))\n",
    "        print(\"y: \"+str(self.y))\n",
    "class BoundingBox:\n",
    "    def __init__(self,setLogicalClass,setXLeft,setXRight,setYTop,setYBottom):\n",
    "        self.logicalClass = setLogicalClass\n",
    "        self.XLeft = setXLeft\n",
    "        self.XRight = setXRight\n",
    "        self.YTop = setYTop\n",
    "        self.YBottom = setYBottom\n",
    "    def printBox(self):\n",
    "        print(\"logicalClass: \"+str(self.logicalClass))\n",
    "        print(\"x_left: \"+str(self.XLeft))\n",
    "        print(\"x_right: \"+str(self.XRight))\n",
    "        print(\"y_top: \"+str(self.YTop))\n",
    "        print(\"y_bottom: \"+str(self.YBottom))\n",
    "\n"
   ]
  },
  {
   "cell_type": "code",
   "execution_count": 2,
   "metadata": {},
   "outputs": [],
   "source": [
    "#collect bounding boxes information from both CRAFT and Faster R-CNN\n",
    "def collect_boxes_and_labels(text_only_csv_file_name,mixed_csv_file_name):\n",
    "    Bounding_box_list = []\n",
    "    labels_list = []\n",
    "    with open(mixed_csv_file_name, newline='') as csvfile:\n",
    "        reader = csv.DictReader(csvfile)\n",
    "        for row in reader:\n",
    "            if(row['label']==\"2\"):\n",
    "#                 print(\"2\")\n",
    "                x_left = row['xmin']\n",
    "                x_right = row['xmax']\n",
    "                y_top = row['ymin']\n",
    "                y_bottom = row['ymax']\n",
    "                bbx = BoundingBox(2,x_left,x_right,y_top,y_bottom)\n",
    "                Bounding_box_list.append(bbx)\n",
    "                labels_list.append(2)\n",
    "    with open(text_only_csv_file_name, newline='') as csvfile:\n",
    "        reader = csv.DictReader(csvfile)\n",
    "        for row in reader:\n",
    "            x_left = row['xmin']\n",
    "            x_right = row['xmax']\n",
    "            y_top = row['ymin']\n",
    "            y_bottom = row['ymax']\n",
    "            bbx = BoundingBox(1,x_left,x_right,y_top,y_bottom)\n",
    "            Bounding_box_list.append(bbx)\n",
    "            labels_list.append(1)     \n",
    "    return Bounding_box_list, labels_list"
   ]
  },
  {
   "cell_type": "code",
   "execution_count": 3,
   "metadata": {},
   "outputs": [],
   "source": [
    "#output concatenated results\n",
    "Bounding_boxes_lists_all = []\n",
    "labels_lists_all = []\n",
    "number_of_images = 300\n",
    "for i in range(number_of_images):\n",
    "    text_only_csv_file_name = \"./bce_csv_text_only/\"+str(i)+\"_boxes.csv\"\n",
    "    mixed_csv_file_name = \"./BCE_test/result_boxes/\"+str(i)+\"_boxes.csv\"\n",
    "    Bounding_box_list = []\n",
    "    labels_list = []\n",
    "    Bounding_box_list,labels_list = collect_boxes_and_labels(text_only_csv_file_name,mixed_csv_file_name)\n",
    "    Bounding_boxes_lists_all.append(Bounding_box_list)\n",
    "    labels_lists_all.append(labels_list)"
   ]
  },
  {
   "cell_type": "code",
   "execution_count": 4,
   "metadata": {},
   "outputs": [],
   "source": [
    "#in .csv format\n",
    "import csv\n",
    "def write_box_info_into_csv(boxes_accepted_list,labels_list,saving_root_boxes):\n",
    "    for i in range(len(boxes_accepted_list)):\n",
    "        with open(saving_root_boxes+str(i)+'_boxes.csv', 'w', newline='') as csvfile:\n",
    "            fieldnames = ['xmin', 'ymin','xmax','ymax','label']\n",
    "            writer = csv.DictWriter(csvfile, fieldnames=fieldnames)\n",
    "            writer.writeheader()\n",
    "            for j in range(len(boxes_accepted_list[i])):\n",
    "                xmin = boxes_accepted_list[i][j].XLeft\n",
    "                ymin = boxes_accepted_list[i][j].YTop\n",
    "                xmax = boxes_accepted_list[i][j].XRight\n",
    "                ymax = boxes_accepted_list[i][j].YBottom\n",
    "                writer.writerow({'xmin': str(int(xmin)), 'ymin': str(int(ymin)),'xmax': str(int(xmax)),'ymax': str(int(ymax)),'label':str(int(labels_list[i][j]))})\n",
    "\n",
    "write_box_info_into_csv(Bounding_boxes_lists_all,labels_lists_all,\"./cnnSeg/bce_csv_mixed/\")"
   ]
  },
  {
   "cell_type": "code",
   "execution_count": null,
   "metadata": {},
   "outputs": [],
   "source": []
  }
 ],
 "metadata": {
  "kernelspec": {
   "display_name": "Python 3",
   "language": "python",
   "name": "python3"
  },
  "language_info": {
   "codemirror_mode": {
    "name": "ipython",
    "version": 3
   },
   "file_extension": ".py",
   "mimetype": "text/x-python",
   "name": "python",
   "nbconvert_exporter": "python",
   "pygments_lexer": "ipython3",
   "version": "3.7.3"
  }
 },
 "nbformat": 4,
 "nbformat_minor": 2
}
